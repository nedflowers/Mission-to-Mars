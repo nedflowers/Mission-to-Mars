{
 "cells": [
  {
   "cell_type": "code",
   "execution_count": 1,
   "id": "7c9d2866",
   "metadata": {},
   "outputs": [
    {
     "name": "stderr",
     "output_type": "stream",
     "text": [
      "\n",
      "\n",
      "====== WebDriver manager ======\n",
      "Current google-chrome version is 98.0.4758\n",
      "Get LATEST chromedriver version for 98.0.4758 google-chrome\n",
      "Trying to download new driver from https://chromedriver.storage.googleapis.com/98.0.4758.102/chromedriver_win32.zip\n",
      "Driver has been saved in cache [C:\\Users\\PauRodriguez\\.wdm\\drivers\\chromedriver\\win32\\98.0.4758.102]\n"
     ]
    }
   ],
   "source": [
    "# import dep\n",
    "from flask import Flask, render_template, redirect, url_for\n",
    "from flask_pymongo import PyMongo\n",
    "import scraping"
   ]
  },
  {
   "cell_type": "code",
   "execution_count": null,
   "id": "626bc14e",
   "metadata": {},
   "outputs": [],
   "source": [
    "#setup flask\n",
    "app = Flask(__name__)"
   ]
  },
  {
   "cell_type": "code",
   "execution_count": null,
   "id": "d2ee8ff6",
   "metadata": {},
   "outputs": [],
   "source": [
    "# Use flask_pymongo to set up mongo connection\n",
    "app.config[\"MONGO_URI\"] = \"mongodb://localhost:27017/mars_app\"\n",
    "mongo = PyMongo(app)"
   ]
  },
  {
   "cell_type": "code",
   "execution_count": null,
   "id": "9c3e4ae9",
   "metadata": {},
   "outputs": [],
   "source": [
    "# define the route for the HTML page\n",
    "@app.route(\"/\")\n",
    "# def home page\n",
    "def index():\n",
    "    # PyMongo find mars collection in DB\n",
    "    mars = mongo.db.mars.find_one()\n",
    "    # return html index tmplt\n",
    "    return render_template(\"index.html\", mars=mars)"
   ]
  },
  {
   "cell_type": "code",
   "execution_count": null,
   "id": "215fa23c",
   "metadata": {},
   "outputs": [],
   "source": [
    "# insert scrape route\n",
    "# def route and exec fnc below\n",
    "@app.route(\"/scrape\")\n",
    "def scrape():\n",
    "    # access database\n",
    "    mars = mongo.db.mars\n",
    "    # new variable to hold data, ref scraping.py\n",
    "    mars_data = scraping.scrape_all()\n",
    "    # update database with unique vals then modify doc with dta, create a new document if one doesn't already exist,\n",
    "    mars.update_one({}, {\"$set\":mars_data}, upsert=True)\n",
    "    # redir after successs\n",
    "    return redirect('/', code=302)"
   ]
  },
  {
   "cell_type": "code",
   "execution_count": null,
   "id": "a728a458",
   "metadata": {},
   "outputs": [],
   "source": [
    "# if __name__ == \"__main__\":\n",
    "   app.run()"
   ]
  }
 ],
 "metadata": {
  "kernelspec": {
   "display_name": "PythonData",
   "language": "python",
   "name": "pythondata"
  },
  "language_info": {
   "codemirror_mode": {
    "name": "ipython",
    "version": 3
   },
   "file_extension": ".py",
   "mimetype": "text/x-python",
   "name": "python",
   "nbconvert_exporter": "python",
   "pygments_lexer": "ipython3",
   "version": "3.7.11"
  }
 },
 "nbformat": 4,
 "nbformat_minor": 5
}
